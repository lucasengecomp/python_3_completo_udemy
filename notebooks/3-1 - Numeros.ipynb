{
 "cells": [
  {
   "cell_type": "markdown",
   "source": [
    "# Números e mais em Python!\n",
    "\n",
    "Nesta aula aprenderemos sobre os números em Python e sobre como usá-los.\n",
    "\n",
    "Aprenderemos sobre os seguintes tópicos:\n",
    "\n",
    "     1.) Tipos de Números em Python\n",
    "     2.) Aritmética básica\n",
    "     3.) Atribuição de Objeto em Python"
   ],
   "metadata": {}
  },
  {
   "cell_type": "markdown",
   "source": [
    "## Tipos de números\n",
    "\n",
    "Python tem vários \"tipos\" de números (literais numéricos). Nós nos concentraremos principalmente em números inteiros e números de ponto flutuante.\n",
    "\n",
    "Inteiros são apenas números inteiros, positivos ou negativos. Por exemplo: 2 e -2 são exemplos de números inteiros.\n",
    "\n",
    "Os números de pontos flutuantes em Python são notáveis porque eles têm um ponto decimal neles, ou usam uma exponencial (e) para definir o número. Por exemplo, 2.0 e -2.1 são exemplos de números de ponto flutuante. 4E2 (4 vezes 10 para o poder de 2) também é um exemplo de um número de ponto flutuante em Python.\n",
    "\n",
    "Ao longo deste curso, trabalharemos principalmente com números inteiros ou tipos simples de números de flutuação.\n",
    "\n",
    "Aqui está uma tabela dos dois tipos principais que passaremos a maior parte do tempo trabalhando com alguns exemplos:"
   ],
   "metadata": {}
  },
  {
   "cell_type": "markdown",
   "source": [
    "<table>\n",
    "<tr>\n",
    "    <th>Exemplo</th> \n",
    "    <th>Tipo</th>\n",
    "</tr>\n",
    "\n",
    "<tr>\n",
    "    <td>1,2, -5, 1000</td>\n",
    "    <td>Inteiros</td> \n",
    "</tr>\n",
    "\n",
    "<tr>\n",
    "    <td>1.2, -0.5, 2e2, 3E2</td> \n",
    "    <td>Numero Ponto-flutuante</td> \n",
    "</tr>\n",
    " </table>"
   ],
   "metadata": {}
  },
  {
   "cell_type": "markdown",
   "source": [
    "Agora vamos começar com alguma aritmética básica."
   ],
   "metadata": {}
  },
  {
   "cell_type": "markdown",
   "source": [
    "### Aritmética básica"
   ],
   "metadata": {}
  },
  {
   "cell_type": "code",
   "execution_count": 1,
   "source": [
    "# Soma\n",
    "2+1"
   ],
   "outputs": [
    {
     "output_type": "execute_result",
     "data": {
      "text/plain": [
       "3"
      ]
     },
     "metadata": {},
     "execution_count": 1
    }
   ],
   "metadata": {}
  },
  {
   "cell_type": "code",
   "execution_count": 2,
   "source": [
    "# Subtração\n",
    "2-1"
   ],
   "outputs": [
    {
     "output_type": "execute_result",
     "data": {
      "text/plain": [
       "1"
      ]
     },
     "metadata": {},
     "execution_count": 2
    }
   ],
   "metadata": {}
  },
  {
   "cell_type": "code",
   "execution_count": 3,
   "source": [
    "# Multiplicação\n",
    "2*2"
   ],
   "outputs": [
    {
     "output_type": "execute_result",
     "data": {
      "text/plain": [
       "4"
      ]
     },
     "metadata": {},
     "execution_count": 3
    }
   ],
   "metadata": {}
  },
  {
   "cell_type": "code",
   "execution_count": 4,
   "source": [
    "# Divisão\n",
    "3/2"
   ],
   "outputs": [
    {
     "output_type": "execute_result",
     "data": {
      "text/plain": [
       "1.5"
      ]
     },
     "metadata": {},
     "execution_count": 4
    }
   ],
   "metadata": {}
  },
  {
   "cell_type": "code",
   "execution_count": 5,
   "source": [
    "# Specifying one of the numbers as a float\n",
    "3.0/2"
   ],
   "outputs": [
    {
     "output_type": "execute_result",
     "data": {
      "text/plain": [
       "1.5"
      ]
     },
     "metadata": {},
     "execution_count": 5
    }
   ],
   "metadata": {}
  },
  {
   "cell_type": "code",
   "execution_count": 6,
   "source": [
    "# Works for either number\n",
    "3/2.0"
   ],
   "outputs": [
    {
     "output_type": "execute_result",
     "data": {
      "text/plain": [
       "1.5"
      ]
     },
     "metadata": {},
     "execution_count": 6
    }
   ],
   "metadata": {}
  },
  {
   "cell_type": "code",
   "execution_count": 7,
   "source": [
    "# Quadrado\n",
    "2**3"
   ],
   "outputs": [
    {
     "output_type": "execute_result",
     "data": {
      "text/plain": [
       "8"
      ]
     },
     "metadata": {},
     "execution_count": 7
    }
   ],
   "metadata": {}
  },
  {
   "cell_type": "code",
   "execution_count": 8,
   "source": [
    "# Outra forma de fazer raiz quadrada\n",
    "4**0.5"
   ],
   "outputs": [
    {
     "output_type": "execute_result",
     "data": {
      "text/plain": [
       "2.0"
      ]
     },
     "metadata": {},
     "execution_count": 8
    }
   ],
   "metadata": {}
  },
  {
   "cell_type": "code",
   "execution_count": 9,
   "source": [
    "# Ordem das operações em Python igual na matemática normal\n",
    "2 + 10 * 10 + 3"
   ],
   "outputs": [
    {
     "output_type": "execute_result",
     "data": {
      "text/plain": [
       "105"
      ]
     },
     "metadata": {},
     "execution_count": 9
    }
   ],
   "metadata": {}
  },
  {
   "cell_type": "code",
   "execution_count": 10,
   "source": [
    "# Você pode usar parêntesis para especificar a ordem\n",
    "(2+10) * (10+3)"
   ],
   "outputs": [
    {
     "output_type": "execute_result",
     "data": {
      "text/plain": [
       "156"
      ]
     },
     "metadata": {},
     "execution_count": 10
    }
   ],
   "metadata": {}
  },
  {
   "cell_type": "markdown",
   "source": [
    "## Atribuições de variáveis\n",
    "\n",
    "Agora que vimos como usar números em Python como calculadora, vejamos como podemos atribuir nomes e criar variáveis.\n",
    "\n",
    "Usamos um único sinal de igual para atribuir rótulos às variáveis. Vejamos alguns exemplos de como podemos fazer isso."
   ],
   "metadata": {}
  },
  {
   "cell_type": "code",
   "execution_count": 11,
   "source": [
    "# Vamos criar um objeto chamado \"a\" e atribuir o número 5\n",
    "a = 5"
   ],
   "outputs": [],
   "metadata": {
    "collapsed": true
   }
  },
  {
   "cell_type": "markdown",
   "source": [
    "Agora, se eu chamar *a* no meu script Python, o Python tratará isso como o número 5."
   ],
   "metadata": {}
  },
  {
   "cell_type": "code",
   "execution_count": 12,
   "source": [
    "# Somando objetos\n",
    "a+a"
   ],
   "outputs": [
    {
     "output_type": "execute_result",
     "data": {
      "text/plain": [
       "10"
      ]
     },
     "metadata": {},
     "execution_count": 12
    }
   ],
   "metadata": {}
  },
  {
   "cell_type": "markdown",
   "source": [
    "O que acontece na redefinição? Python nos deixa escrever sobre os valores anteriores?"
   ],
   "metadata": {}
  },
  {
   "cell_type": "code",
   "execution_count": 13,
   "source": [
    "# Redefinição\n",
    "a = 10"
   ],
   "outputs": [],
   "metadata": {
    "collapsed": true
   }
  },
  {
   "cell_type": "code",
   "execution_count": 14,
   "source": [
    "# Checa\n",
    "a"
   ],
   "outputs": [
    {
     "output_type": "execute_result",
     "data": {
      "text/plain": [
       "10"
      ]
     },
     "metadata": {},
     "execution_count": 14
    }
   ],
   "metadata": {}
  },
  {
   "cell_type": "code",
   "execution_count": 15,
   "source": [
    "# Usa a para redefinir a\n",
    "a = a + a"
   ],
   "outputs": [],
   "metadata": {
    "collapsed": true
   }
  },
  {
   "cell_type": "code",
   "execution_count": 16,
   "source": [
    "# Checa \n",
    "a"
   ],
   "outputs": [
    {
     "output_type": "execute_result",
     "data": {
      "text/plain": [
       "20"
      ]
     },
     "metadata": {},
     "execution_count": 16
    }
   ],
   "metadata": {}
  },
  {
   "cell_type": "markdown",
   "source": [
    "Os nomes que você usa ao criar esses rótulos precisam seguir algumas regras:\n",
    "\n",
    "     1. Os nomes não podem começar com um número.\n",
    "     2. Não pode haver espaços no nome. Use _ em vez disso.\n",
    "     3. Não é possível usar nenhum desses símbolos: '\", <> /? | \\ ()! @ # $% ^ & * ~ - +\n",
    "     3. É considerada a melhor prática (PEP8) que os nomes são minúsculos.\n",
    "\n",
    "Usar nomes de variáveis pode ser uma maneira muito útil de acompanhar diferentes variáveis em Python. Por exemplo:"
   ],
   "metadata": {}
  },
  {
   "cell_type": "code",
   "execution_count": 17,
   "source": [
    "# Use nomes de objetos para manter uma melhor relação com o que está acontecendo no seu código!\n",
    "my_income = 100\n",
    "\n",
    "tax_rate = 0.1\n",
    "\n",
    "my_taxes = my_income*tax_rate"
   ],
   "outputs": [],
   "metadata": {
    "collapsed": true
   }
  },
  {
   "cell_type": "code",
   "execution_count": 18,
   "source": [
    "# Mostra as taxas\n",
    "my_taxes"
   ],
   "outputs": [
    {
     "output_type": "execute_result",
     "data": {
      "text/plain": [
       "10.0"
      ]
     },
     "metadata": {},
     "execution_count": 18
    }
   ],
   "metadata": {}
  },
  {
   "cell_type": "markdown",
   "source": [
    "Então, o que aprendemos? Aprendemos alguns dos conceitos básicos dos números em Python. Também aprendemos a fazer aritmética e usar Python como uma calculadora básica. Em seguida, o envolvemos com o aprendizado sobre a atribuição variável em Python.\n",
    "\n",
    "Em seguida, aprenderemos sobre Strings!"
   ],
   "metadata": {}
  }
 ],
 "metadata": {
  "anaconda-cloud": {},
  "kernelspec": {
   "name": "python3",
   "display_name": "Python 3.9.6 64-bit"
  },
  "language_info": {
   "codemirror_mode": {
    "name": "ipython",
    "version": 3
   },
   "file_extension": ".py",
   "mimetype": "text/x-python",
   "name": "python",
   "nbconvert_exporter": "python",
   "pygments_lexer": "ipython3",
   "version": "3.9.7"
  },
  "interpreter": {
   "hash": "a59ddac5050bfaa2ef2aa64a2b36b57597d127f16cc2e88acd44636f7ec30777"
  }
 },
 "nbformat": 4,
 "nbformat_minor": 1
}